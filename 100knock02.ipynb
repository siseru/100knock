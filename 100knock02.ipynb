{
 "cells": [
  {
   "cell_type": "markdown",
   "metadata": {},
   "source": [
    "# 言語処理100本ノック\n",
    "\n",
    "http://www.cl.ecei.tohoku.ac.jp/nlp100/"
   ]
  },
  {
   "cell_type": "markdown",
   "metadata": {},
   "source": [
    "## 進め方\n",
    "\n",
    "プログラミングの問題を進める前に、決めておいたほうが良いハイパーパラメータが2つあります。\n",
    "\n",
    "1. 目的\n",
    "2. 戦略\n",
    "3. 言語\n",
    "\n",
    "### 目的\n",
    "\n",
    "何のためにこの問題を解くのか、という事です。\n",
    "\n",
    "大抵は「勉強のため」でしょうけれど、もう少し具体的に。\n",
    "\n",
    "* ある言語(例えばPython)の基本を習得したい\n",
    "* ある言語(例えばJulia)のライブラリ・モジュールの知識を広げたい\n",
    "* 言語に依存しないプログラミング・アルゴリズムを理解したい\n",
    "\n",
    "目的によって、取るべき戦略が異なります。\n",
    "\n",
    "### 戦略\n",
    "\n",
    "例えば‐\n",
    "\n",
    "Pythonの基本を習得したいのであれば、ラッピングされた高度なライブラリ・モジュールを使うのではなく、処理を基本的な文法と関数のみで素朴に書き下し他方が良いかもしれません。\n",
    "\n",
    "実用的なライブラリ・モジュールの知識を得たいのであれば、問題にあったライブラリを探して使ってみましょう。\n",
    "\n",
    "アルゴリズムのイディオムを知りたいのであれば、ソート処理なんかも自分で実装してみるのも手です。\n",
    "\n",
    "別のアプローチとして、ある程度プログラミングに習熟しているならばコードゴルフに挑戦するのも楽しいかもしれません。\n",
    "\n",
    "### コードゴルフ\n",
    "\n",
    "コードゴルフというのはWikipediaによると\n",
    "\n",
    "> 与えられたアルゴリズムを、可能な限りもっとも短いソースコードで記述することを競う\n",
    "\n",
    "とあります。つまり、出来るだけ短いコードで問題を解く、という事です。\n",
    "\n",
    "※ちなみに、超上級者になると「バイナリゴルフ」というのをやったりするみたいです。つまりCなどで書いたコードをコンパイルして出来たバイナリを直接修正したりして、実行ファイルサイズを極限まで減らす、というのをやるのです。\n",
    "\n",
    "コードゴルフもバイナリゴルフも僕には無理です。\n",
    "\n",
    "### 言語\n",
    "\n",
    "言語処理100本ノックのサイト運営者はPythonを意識しているらしいですが、機能が貧弱な言語(Brainfackとか)だとかなりつらいです。\n",
    "\n",
    "Python、Ruby、PHP、Perlあたりならば特別苦労は無いでしょう。\n",
    "\n",
    "1つ気をつけたほうが良いのは、問題の中には日本語の文章をデータとして扱うものが多いので、マルチバイトの扱いが下手な言語だと要らぬ苦労が増えます。\n",
    "\n",
    "### 蛇足\n",
    "\n",
    "言語処理100本ノックとは少し方向性が違いますがプロジェクト・オイラー(Project Euler)も、プログラミングの問題集としては有名です。\n",
    "\n",
    "https://projecteuler.net/\n",
    "\n",
    "こちらは数学的な問題ばかりです。例えば素数判別とか素因数分解とか。\n",
    "\n",
    "### 蛇足その2\n",
    "\n",
    "プログラミングに関する格言を幾つかご紹介。\n",
    "\n",
    "Keep It Simple, Stupid! - Kelly Johnson\n",
    "\n",
    "KISSの原則、と言われていて有名。出来るだけ機能を分解して1つの単純な処理だけ実行するパーツ(関数)を組み合わせて複雑な処理を実装するというような意味。\n",
    "\n",
    "Computers are good at following instructions,　but not at reading your mind. - Donald Knuth\n",
    "\n",
    "機械は命令に忠実に動くのであって、プログラマが思ったように動くのではない、という事。つまりプログラムがうまく動かないのはプログラマの所為。\n",
    "\n",
    "Make it work. Make it right. Make it fast. - KentBeck\n",
    "\n",
    "まず、特殊な前提が必要であれ何であれ動くものを作り、次にそれを正しく(特殊な前提など無しに)動くように修正し、最後に実行速度が速くなるようにする、という指針。"
   ]
  },
  {
   "cell_type": "markdown",
   "metadata": {},
   "source": [
    "## Ch02 UNIXコマンドの基礎\n",
    "\n",
    "hightemp.txtは，日本の最高気温の記録を「都道府県」「地点」「℃」「日」のタブ区切り形式で格納したファイルである．以下の処理を行うプログラムを作成し，hightemp.txtを入力ファイルとして実行せよ．さらに，同様の処理をUNIXコマンドでも実行し，プログラムの実行結果を確認せよ．"
   ]
  },
  {
   "cell_type": "code",
   "execution_count": 1,
   "metadata": {},
   "outputs": [
    {
     "name": "stdout",
     "output_type": "stream",
     "text": [
      "/bin/wget\r\n"
     ]
    }
   ],
   "source": [
    "!which wget"
   ]
  },
  {
   "cell_type": "code",
   "execution_count": 2,
   "metadata": {},
   "outputs": [
    {
     "name": "stdout",
     "output_type": "stream",
     "text": [
      "--2018-03-05 09:49:39--  http://www.cl.ecei.tohoku.ac.jp/nlp100/data/hightemp.txt\n",
      "Resolving www.cl.ecei.tohoku.ac.jp (www.cl.ecei.tohoku.ac.jp)... 130.34.192.83\n",
      "Connecting to www.cl.ecei.tohoku.ac.jp (www.cl.ecei.tohoku.ac.jp)|130.34.192.83|:80... connected.\n",
      "HTTP request sent, awaiting response... 200 OK\n",
      "Length: 813 [text/plain]\n",
      "Saving to: ‘hightemp.txt.1’\n",
      "\n",
      "100%[======================================>] 813         --.-K/s   in 0s      \n",
      "\n",
      "2018-03-05 09:49:39 (35.2 MB/s) - ‘hightemp.txt.1’ saved [813/813]\n",
      "\n"
     ]
    }
   ],
   "source": [
    "#!wget http://www.cl.ecei.tohoku.ac.jp/nlp100/data/hightemp.txt\n"
   ]
  },
  {
   "cell_type": "code",
   "execution_count": 2,
   "metadata": {},
   "outputs": [
    {
     "name": "stdout",
     "output_type": "stream",
     "text": [
      "24 ./hightemp.txt\n",
      "24\n"
     ]
    }
   ],
   "source": [
    "# 10. 行数のカウント\n",
    "# 行数をカウントせよ．確認にはwcコマンドを用いよ．\n",
    "file10 = './hightemp.txt'\n",
    "\n",
    "# まずUNIXコマンドで確認\n",
    "!wc -l $file10\n",
    "\n",
    "lines = sum(1 for l in open(file10,'r'))\n",
    "print(lines)"
   ]
  },
  {
   "cell_type": "code",
   "execution_count": 3,
   "metadata": {},
   "outputs": [
    {
     "name": "stdout",
     "output_type": "stream",
     "text": [
      "高知県 江川崎 41 2013-08-12\n",
      "埼玉県 熊谷 40.9 2007-08-16\n",
      "岐阜県 多治見 40.9 2007-08-16\n",
      "山形県 山形 40.8 1933-07-25\n",
      "山梨県 甲府 40.7 2013-08-10\n",
      "和歌山県 かつらぎ 40.6 1994-08-08\n",
      "静岡県 天竜 40.6 1994-08-04\n",
      "山梨県 勝沼 40.5 2013-08-10\n",
      "埼玉県 越谷 40.4 2007-08-16\n",
      "群馬県 館林 40.3 2007-08-16\n",
      "群馬県 上里見 40.3 1998-07-04\n",
      "愛知県 愛西 40.3 1994-08-05\n",
      "千葉県 牛久 40.2 2004-07-20\n",
      "静岡県 佐久間 40.2 2001-07-24\n",
      "愛媛県 宇和島 40.2 1927-07-22\n",
      "山形県 酒田 40.1 1978-08-03\n",
      "岐阜県 美濃 40 2007-08-16\n",
      "群馬県 前橋 40 2001-07-24\n",
      "千葉県 茂原 39.9 2013-08-11\n",
      "埼玉県 鳩山 39.9 1997-07-05\n",
      "大阪府 豊中 39.9 1994-08-08\n",
      "山梨県 大月 39.9 1990-07-19\n",
      "山形県 鶴岡 39.9 1978-08-03\n",
      "愛知県 名古屋 39.9 1942-08-02\n",
      "---\n",
      "高知県 江川崎 41 2013-08-12\n",
      "埼玉県 熊谷 40.9 2007-08-16\n",
      "岐阜県 多治見 40.9 2007-08-16\n",
      "山形県 山形 40.8 1933-07-25\n",
      "山梨県 甲府 40.7 2013-08-10\n",
      "和歌山県 かつらぎ 40.6 1994-08-08\n",
      "静岡県 天竜 40.6 1994-08-04\n",
      "山梨県 勝沼 40.5 2013-08-10\n",
      "埼玉県 越谷 40.4 2007-08-16\n",
      "群馬県 館林 40.3 2007-08-16\n",
      "群馬県 上里見 40.3 1998-07-04\n",
      "愛知県 愛西 40.3 1994-08-05\n",
      "千葉県 牛久 40.2 2004-07-20\n",
      "静岡県 佐久間 40.2 2001-07-24\n",
      "愛媛県 宇和島 40.2 1927-07-22\n",
      "山形県 酒田 40.1 1978-08-03\n",
      "岐阜県 美濃 40 2007-08-16\n",
      "群馬県 前橋 40 2001-07-24\n",
      "千葉県 茂原 39.9 2013-08-11\n",
      "埼玉県 鳩山 39.9 1997-07-05\n",
      "大阪府 豊中 39.9 1994-08-08\n",
      "山梨県 大月 39.9 1990-07-19\n",
      "山形県 鶴岡 39.9 1978-08-03\n",
      "愛知県 名古屋 39.9 1942-08-02\n"
     ]
    }
   ],
   "source": [
    "# 11. タブをスペースに置換\n",
    "# タブ1文字につきスペース1文字に置換せよ．確認にはsedコマンド，trコマンド，もしくはexpandコマンドを用いよ．\n",
    "\n",
    "# まずUNIXコマンドで確認\n",
    "!tr '\\t' ' ' <$file10\n",
    "!echo \"---\"\n",
    "with open(file10,'r') as fd:\n",
    "    for line in fd:\n",
    "        print(\"%s\" % line.replace('\\t',' ').rstrip())\n",
    "\n",
    "# with節を使うと、fcloseしないでよいので便利"
   ]
  },
  {
   "cell_type": "code",
   "execution_count": 4,
   "metadata": {},
   "outputs": [
    {
     "name": "stdout",
     "output_type": "stream",
     "text": [
      "faf7550a4562addefc6d23be7e042224  ./col1.txt\n",
      "faf7550a4562addefc6d23be7e042224  -\n",
      "---\n",
      "6fb8d62378642e995b186d72e33c16f3  ./col2.txt\n",
      "6fb8d62378642e995b186d72e33c16f3  -\n"
     ]
    }
   ],
   "source": [
    "# 12. 1列目をcol1.txtに，2列目をcol2.txtに保存\n",
    "# 各行の1列目だけを抜き出したものをcol1.txtに，2列目だけを抜き出したものをcol2.txtとしてファイルに保存せよ．\n",
    "#  確認にはcutコマンドを用いよ．\n",
    "\n",
    "col1 = './col1.txt'\n",
    "col2 = './col2.txt'\n",
    "\n",
    "with open(file10, 'r') as fd, open(col1, 'w') as fd1, open(col2, 'w') as fd2:\n",
    "    for line in fd:\n",
    "        cells = line.split('\\t')\n",
    "        fd1.write(cells[0] + \"\\n\")\n",
    "        fd2.write(cells[1] + \"\\n\")\n",
    "\n",
    "# チェックサムでファイルの同一性を確認\n",
    "!md5sum $col1\n",
    "!cut -f1 <$file10 | md5sum\n",
    "!echo '---'\n",
    "!md5sum $col2\n",
    "!cut -f2 <$file10 | md5sum"
   ]
  },
  {
   "cell_type": "code",
   "execution_count": 5,
   "metadata": {},
   "outputs": [
    {
     "name": "stdout",
     "output_type": "stream",
     "text": [
      "4b2e63e9ec75115cdeb2af83bc6db36b  ./file13\n",
      "4b2e63e9ec75115cdeb2af83bc6db36b  -\n"
     ]
    }
   ],
   "source": [
    "# 13. col1.txtとcol2.txtをマージ\n",
    "# 12で作ったcol1.txtとcol2.txtを結合し，元のファイルの1列目と2列目をタブ区切りで並べたテキストファイルを作成せよ．\n",
    "# 確認にはpasteコマンドを用いよ．\n",
    "\n",
    "file13 = './file13'\n",
    "\n",
    "fd = open(file13, 'w')\n",
    "fd1 = open(col1, 'r')\n",
    "fd2 = open(col2, 'r')\n",
    "\n",
    "# with説でopenするファイルはカンマ区切りで複数指定可能\n",
    "with open(file13, 'w') as fd, open(col1) as fd1, open(col2) as fd2:\n",
    "    for i, j in zip(fd1, fd2):\n",
    "        fd.write(i.rstrip() + \"\\t\" + j.rstrip() + \"\\n\")\n",
    "\n",
    "!md5sum $file13\n",
    "!paste $col1 $col2 | md5sum"
   ]
  },
  {
   "cell_type": "code",
   "execution_count": 6,
   "metadata": {},
   "outputs": [
    {
     "name": "stdout",
     "output_type": "stream",
     "text": [
      "高知県\t江川崎\t41\t2013-08-12\n",
      "埼玉県\t熊谷\t40.9\t2007-08-16\n",
      "岐阜県\t多治見\t40.9\t2007-08-16\n",
      "山形県\t山形\t40.8\t1933-07-25\n",
      "山梨県\t甲府\t40.7\t2013-08-10\n",
      "和歌山県\tかつらぎ\t40.6\t1994-08-08\n",
      "静岡県\t天竜\t40.6\t1994-08-04\n",
      "山梨県\t勝沼\t40.5\t2013-08-10\n",
      "埼玉県\t越谷\t40.4\t2007-08-16\n",
      "群馬県\t館林\t40.3\t2007-08-16\n",
      "---\n",
      "高知県\t江川崎\t41\t2013-08-12\n",
      "埼玉県\t熊谷\t40.9\t2007-08-16\n",
      "岐阜県\t多治見\t40.9\t2007-08-16\n",
      "山形県\t山形\t40.8\t1933-07-25\n",
      "山梨県\t甲府\t40.7\t2013-08-10\n",
      "和歌山県\tかつらぎ\t40.6\t1994-08-08\n",
      "静岡県\t天竜\t40.6\t1994-08-04\n",
      "山梨県\t勝沼\t40.5\t2013-08-10\n",
      "埼玉県\t越谷\t40.4\t2007-08-16\n",
      "群馬県\t館林\t40.3\t2007-08-16\n"
     ]
    }
   ],
   "source": [
    "# 14. 先頭からN行を出力\n",
    "# 自然数Nをコマンドライン引数などの手段で受け取り，入力のうち先頭のN行だけを表示せよ．\n",
    "# 確認にはheadコマンドを用いよ．\n",
    "\n",
    "# jupyterだとコマンドライン引数とか面倒なのでやらない\n",
    "# pythonでコマンドライン引数を処理するには\n",
    "# import sys\n",
    "# sys.argv[]を参照してやればよいだけ\n",
    "\n",
    "# haedの機能のみを実装する\n",
    "\n",
    "N = 10\n",
    "# N = sys.argv[1]\n",
    "file14 = file10\n",
    "# file14 = sys.argv[2]\n",
    "\n",
    "with open(file14, 'r') as fd:\n",
    "    for i in range(N):\n",
    "        print(fd.readline().rstrip())\n",
    "\n",
    "!echo ---\n",
    "!head $file14"
   ]
  },
  {
   "cell_type": "code",
   "execution_count": 32,
   "metadata": {},
   "outputs": [
    {
     "name": "stdout",
     "output_type": "stream",
     "text": [
      "愛媛県\t宇和島\t40.2\t1927-07-22\n",
      "山形県\t酒田\t40.1\t1978-08-03\n",
      "岐阜県\t美濃\t40\t2007-08-16\n",
      "群馬県\t前橋\t40\t2001-07-24\n",
      "千葉県\t茂原\t39.9\t2013-08-11\n",
      "埼玉県\t鳩山\t39.9\t1997-07-05\n",
      "大阪府\t豊中\t39.9\t1994-08-08\n",
      "山梨県\t大月\t39.9\t1990-07-19\n",
      "山形県\t鶴岡\t39.9\t1978-08-03\n",
      "愛知県\t名古屋\t39.9\t1942-08-02\n",
      "---\n",
      "愛媛県\t宇和島\t40.2\t1927-07-22\n",
      "山形県\t酒田\t40.1\t1978-08-03\n",
      "岐阜県\t美濃\t40\t2007-08-16\n",
      "群馬県\t前橋\t40\t2001-07-24\n",
      "千葉県\t茂原\t39.9\t2013-08-11\n",
      "埼玉県\t鳩山\t39.9\t1997-07-05\n",
      "大阪府\t豊中\t39.9\t1994-08-08\n",
      "山梨県\t大月\t39.9\t1990-07-19\n",
      "山形県\t鶴岡\t39.9\t1978-08-03\n",
      "愛知県\t名古屋\t39.9\t1942-08-02\n"
     ]
    }
   ],
   "source": [
    "# 15. 末尾のN行を出力\n",
    "# 自然数Nをコマンドライン引数などの手段で受け取り，\n",
    "# 入力のうち末尾のN行だけを表示せよ．確認にはtailコマンドを用いよ．\n",
    "from collections import deque\n",
    "\n",
    "N = 10\n",
    "# N = sys.argv[1]\n",
    "file15 = file10\n",
    "# file15 = sys.argv[2]\n",
    "\n",
    "q = deque([None]*N) # N個の要素を持つキューを作る。初期値は全部None\n",
    "\n",
    "with open(file15) as fd:\n",
    "    for line in fd:\n",
    "        q.popleft() # キューを左シフト。\n",
    "        q.append(line.strip()) # キューの右端に読んだ1行を追加\n",
    "\n",
    "for i in q: # キューの内容を順に表示\n",
    "    print(i)\n",
    "\n",
    "!echo ---\n",
    "!tail $file14"
   ]
  },
  {
   "cell_type": "code",
   "execution_count": 75,
   "metadata": {},
   "outputs": [],
   "source": [
    "# 16. ファイルをN分割する\n",
    "# 自然数Nをコマンドライン引数などの手段で受け取り，入力のファイルを行単位でN分割せよ．\n",
    "# 同様の処理をsplitコマンドで実現せよ．\n",
    "from math import floor\n",
    "\n",
    "file16 = file10\n",
    "N = 5\n",
    "i = 0 \n",
    "lines = sum(1 for l in open(file16,'r'))\n",
    "\n",
    "div = int((lines - (lines % N)) / (N-1)) # 1ファイルあたりの行数\n",
    "\n",
    "with open(file16) as fd:\n",
    "    for i in range(0,N):\n",
    "        with open(\"%s.%d\" % (file16, i), 'w') as fdw:\n",
    "            for j in range(div):\n",
    "                fdw.write(fd.readline())\n",
    "            \n",
    "    "
   ]
  },
  {
   "cell_type": "code",
   "execution_count": 79,
   "metadata": {},
   "outputs": [
    {
     "name": "stdout",
     "output_type": "stream",
     "text": [
      "{'和歌山県', '愛知県', '埼玉県', '山形県', '高知県', '大阪府', '静岡県', '愛媛県', '山梨県', '岐阜県', '群馬県', '千葉県'}\n",
      "千葉県\r\n",
      "和歌山県\r\n",
      "埼玉県\r\n",
      "大阪府\r\n",
      "山形県\r\n",
      "山梨県\r\n",
      "岐阜県\r\n",
      "愛媛県\r\n",
      "愛知県\r\n",
      "群馬県\r\n",
      "静岡県\r\n",
      "高知県\r\n"
     ]
    }
   ],
   "source": [
    "# 17. １列目の文字列の異なり\n",
    "# 1列目の文字列の種類（異なる文字列の集合）を求めよ．確認にはsort, uniqコマンドを用いよ．\n",
    "\n",
    "file17 = file10\n",
    "first = []\n",
    "\n",
    "with open(file17) as fd:\n",
    "    for line in fd:\n",
    "        list = line.split(\"\\t\")\n",
    "        first.append(list[0])\n",
    "\n",
    "print(set(first))\n",
    "\n",
    "!cut -f1 $file17 | sort | uniq"
   ]
  },
  {
   "cell_type": "code",
   "execution_count": 86,
   "metadata": {},
   "outputs": [
    {
     "data": {
      "text/plain": [
       "[['高知県', '江川崎', '41', '2013-08-12\\n'],\n",
       " ['埼玉県', '熊谷', '40.9', '2007-08-16\\n'],\n",
       " ['岐阜県', '多治見', '40.9', '2007-08-16\\n'],\n",
       " ['山形県', '山形', '40.8', '1933-07-25\\n'],\n",
       " ['山梨県', '甲府', '40.7', '2013-08-10\\n'],\n",
       " ['和歌山県', 'かつらぎ', '40.6', '1994-08-08\\n'],\n",
       " ['静岡県', '天竜', '40.6', '1994-08-04\\n'],\n",
       " ['山梨県', '勝沼', '40.5', '2013-08-10\\n'],\n",
       " ['埼玉県', '越谷', '40.4', '2007-08-16\\n'],\n",
       " ['群馬県', '館林', '40.3', '2007-08-16\\n'],\n",
       " ['群馬県', '上里見', '40.3', '1998-07-04\\n'],\n",
       " ['愛知県', '愛西', '40.3', '1994-08-05\\n'],\n",
       " ['千葉県', '牛久', '40.2', '2004-07-20\\n'],\n",
       " ['静岡県', '佐久間', '40.2', '2001-07-24\\n'],\n",
       " ['愛媛県', '宇和島', '40.2', '1927-07-22\\n'],\n",
       " ['山形県', '酒田', '40.1', '1978-08-03\\n'],\n",
       " ['岐阜県', '美濃', '40', '2007-08-16\\n'],\n",
       " ['群馬県', '前橋', '40', '2001-07-24\\n'],\n",
       " ['千葉県', '茂原', '39.9', '2013-08-11\\n'],\n",
       " ['埼玉県', '鳩山', '39.9', '1997-07-05\\n'],\n",
       " ['大阪府', '豊中', '39.9', '1994-08-08\\n'],\n",
       " ['山梨県', '大月', '39.9', '1990-07-19\\n'],\n",
       " ['山形県', '鶴岡', '39.9', '1978-08-03\\n'],\n",
       " ['愛知県', '名古屋', '39.9', '1942-08-02\\n']]"
      ]
     },
     "metadata": {},
     "output_type": "display_data"
    },
    {
     "name": "stdout",
     "output_type": "stream",
     "text": [
      "高知県\t江川崎\t41\t2013-08-12\r\n",
      "岐阜県\t多治見\t40.9\t2007-08-16\r\n",
      "埼玉県\t熊谷\t40.9\t2007-08-16\r\n",
      "山形県\t山形\t40.8\t1933-07-25\r\n",
      "山梨県\t甲府\t40.7\t2013-08-10\r\n",
      "静岡県\t天竜\t40.6\t1994-08-04\r\n",
      "和歌山県\tかつらぎ\t40.6\t1994-08-08\r\n",
      "山梨県\t勝沼\t40.5\t2013-08-10\r\n",
      "埼玉県\t越谷\t40.4\t2007-08-16\r\n",
      "群馬県\t館林\t40.3\t2007-08-16\r\n",
      "群馬県\t上里見\t40.3\t1998-07-04\r\n",
      "愛知県\t愛西\t40.3\t1994-08-05\r\n",
      "静岡県\t佐久間\t40.2\t2001-07-24\r\n",
      "愛媛県\t宇和島\t40.2\t1927-07-22\r\n",
      "千葉県\t牛久\t40.2\t2004-07-20\r\n",
      "山形県\t酒田\t40.1\t1978-08-03\r\n",
      "群馬県\t前橋\t40\t2001-07-24\r\n",
      "岐阜県\t美濃\t40\t2007-08-16\r\n",
      "愛知県\t名古屋\t39.9\t1942-08-02\r\n",
      "山梨県\t大月\t39.9\t1990-07-19\r\n",
      "山形県\t鶴岡\t39.9\t1978-08-03\r\n",
      "大阪府\t豊中\t39.9\t1994-08-08\r\n",
      "埼玉県\t鳩山\t39.9\t1997-07-05\r\n",
      "千葉県\t茂原\t39.9\t2013-08-11\r\n"
     ]
    }
   ],
   "source": [
    "# 18. 各行を3コラム目の数値の降順にソート\n",
    "# 各行を3コラム目の数値の逆順で整列せよ（注意: 各行の内容は変更せずに並び替えよ）．\n",
    "# 確認にはsortコマンドを用いよ（この問題はコマンドで実行した時の結果と合わなくてもよい）．\n",
    "\n",
    "file18 = file10\n",
    "\n",
    "li = []\n",
    "\n",
    "with open(file18) as fd:\n",
    "    for line in fd:\n",
    "       li.append(line.split(\"\\t\"))\n",
    "\n",
    "display(sorted(li, key=lambda x:x[2],reverse=True))\n",
    "\n",
    "!sort -nr -k 3 $file18"
   ]
  },
  {
   "cell_type": "code",
   "execution_count": 107,
   "metadata": {},
   "outputs": [
    {
     "name": "stdout",
     "output_type": "stream",
     "text": [
      "[('群馬県', 3), ('埼玉県', 3), ('山形県', 3), ('山梨県', 3), ('愛知県', 2), ('岐阜県', 2), ('千葉県', 2), ('静岡県', 2), ('和歌山県', 1), ('高知県', 1), ('大阪府', 1), ('愛媛県', 1)]\n",
      "      3 群馬県\r\n",
      "      3 山梨県\r\n",
      "      3 山形県\r\n",
      "      3 埼玉県\r\n",
      "      2 静岡県\r\n",
      "      2 愛知県\r\n",
      "      2 岐阜県\r\n",
      "      2 千葉県\r\n",
      "      1 高知県\r\n",
      "      1 愛媛県\r\n",
      "      1 大阪府\r\n",
      "      1 和歌山県\r\n"
     ]
    }
   ],
   "source": [
    "# 19. 各行の1コラム目の文字列の出現頻度を求め，出現頻度の高い順に並べる\n",
    "# 各行の1列目の文字列の出現頻度を求め，その高い順に並べて表示せよ．\n",
    "# 確認にはcut, uniq, sortコマンドを用いよ．\n",
    "\n",
    "file19 = file10\n",
    "words = []\n",
    "dic = {}\n",
    "\n",
    "with open(file19) as fd:\n",
    "    for line in fd:\n",
    "        words.append(line.split(\"\\t\")[0])\n",
    "\n",
    "for i in words:\n",
    "    dic.update({i: words.count(i)})\n",
    "    \n",
    "print(sorted(dic.items(),key=lambda x:x[1], reverse=True))\n",
    "\n",
    "!cut -f1 $file19 | sort | uniq -c | sort -nr"
   ]
  },
  {
   "cell_type": "code",
   "execution_count": null,
   "metadata": {},
   "outputs": [],
   "source": []
  }
 ],
 "metadata": {
  "kernelspec": {
   "display_name": "Python 3",
   "language": "python",
   "name": "python3"
  },
  "language_info": {
   "codemirror_mode": {
    "name": "ipython",
    "version": 3
   },
   "file_extension": ".py",
   "mimetype": "text/x-python",
   "name": "python",
   "nbconvert_exporter": "python",
   "pygments_lexer": "ipython3",
   "version": "3.4.5"
  }
 },
 "nbformat": 4,
 "nbformat_minor": 2
}
