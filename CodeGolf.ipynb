{
 "cells": [
  {
   "cell_type": "markdown",
   "metadata": {},
   "source": [
    "# コードゴルフ\n",
    "\n",
    "例の変なPythonのワンライナーの解説。"
   ]
  },
  {
   "cell_type": "code",
   "execution_count": 1,
   "metadata": {},
   "outputs": [
    {
     "name": "stdout",
     "output_type": "stream",
     "text": [
      "1\n",
      "2\n",
      "Fizz\n",
      "4\n",
      "Buzz\n",
      "Fizz\n",
      "7\n",
      "8\n",
      "Fizz\n",
      "Buzz\n",
      "11\n",
      "Fizz\n",
      "13\n",
      "14\n",
      "FizzBuzz\n",
      "16\n",
      "17\n",
      "Fizz\n",
      "19\n",
      "Buzz\n",
      "Fizz\n",
      "22\n",
      "23\n",
      "Fizz\n",
      "Buzz\n",
      "26\n",
      "Fizz\n",
      "28\n",
      "29\n",
      "FizzBuzz\n"
     ]
    }
   ],
   "source": [
    "# まず動くかためそう。\n",
    "print('\\n'.join(n%3//2*'Fizz'+n%5//4*'Buzz'or str(n+1)for n in range(30)))"
   ]
  },
  {
   "cell_type": "markdown",
   "metadata": {},
   "source": [
    "## 分解して解説\n",
    "\n",
    "まず join メソッドの括弧の中身は、**リスト内包表記**になっている。その部分だけ抜き出すと\n",
    "\n",
    "```\n",
    "(n%3//2*'Fizz'+n%5//4*'Buzz'or str(n+1)for n in range(30))\n",
    "```\n",
    "\n",
    "ここの事。\n",
    "\n",
    "リスト内包表記ってのはこんなの。\n",
    "\n",
    "```\n",
    "[i for i in range(10)]\n",
    "```\n",
    "\n",
    "これは 0 から 9 までの数字が入った、10 個の要素を持つリストを作ってくれる。つまり\n",
    "\n",
    "```\n",
    "[0, 1, 2, 3, 4, 5, 6, 7, 8, 9]\n",
    "```\n",
    "\n",
    "リスト内包表記は (リストなので) 通常角括弧で囲う必要があるが、特定の条件下では角括弧を外せる。\n",
    "\n",
    "ちなみにリスト以外の内包表記には**辞書内包表記**、**セット内包評価**、**ジェネレータ内包表記**等がある。この場合のセットというは数学の「集合」のこと。\n",
    "\n",
    "なので、内包表記の部分を、通常の for 文のシンタックスで書き直すと以下のようになる。"
   ]
  },
  {
   "cell_type": "code",
   "execution_count": 5,
   "metadata": {},
   "outputs": [],
   "source": [
    "for n in range(30):\n",
    "    n%3//2*'Fizz'+n%5//4*'Buzz'or str(n+1)"
   ]
  },
  {
   "cell_type": "markdown",
   "metadata": {},
   "source": [
    "この for 文の中身のステートメントがなかなかテクニシャンな感じになっている。\n",
    "\n",
    "後半の or 演算子までを見てみよう。つまり\n",
    "\n",
    "```\n",
    "n%3//2*'Fizz'+n%5//4*'Buzz'\n",
    "```\n",
    "\n",
    "この部分。ここが Fizz と Buzz を表示する処理になっている。まず前半の Fizz の部分だけ説明する。\n",
    "\n",
    "```\n",
    "n%3//2*'Fizz'\n",
    "```\n",
    "\n",
    "Fizz というリテラルはシングルクォーテーションで囲われているので、Python 的には「文字列」になっている。\n",
    "\n",
    "Python の文字列は、文字列同士の足し算が出来たり、整数を掛けて同じ文字列を連続で表示させたりできる、というのがポイント。例えば"
   ]
  },
  {
   "cell_type": "code",
   "execution_count": 6,
   "metadata": {},
   "outputs": [
    {
     "data": {
      "text/plain": [
       "'お前はもう死んでいる'"
      ]
     },
     "execution_count": 6,
     "metadata": {},
     "output_type": "execute_result"
    }
   ],
   "source": [
    "'お前はもう' + '死んでいる'"
   ]
  },
  {
   "cell_type": "code",
   "execution_count": 8,
   "metadata": {},
   "outputs": [
    {
     "data": {
      "text/plain": [
       "'アバアバババババババババババッ!'"
      ]
     },
     "execution_count": 8,
     "metadata": {},
     "output_type": "execute_result"
    }
   ],
   "source": [
    "m = 10\n",
    "'アバ'*2 + 'バ'*m + 'ッ!'"
   ]
  },
  {
   "cell_type": "markdown",
   "metadata": {},
   "source": [
    "とかできる。ここで重要なのは、文字列にゼロを掛けると、その文字列が消えるという事。\n",
    "つまり"
   ]
  },
  {
   "cell_type": "code",
   "execution_count": 27,
   "metadata": {},
   "outputs": [
    {
     "data": {
      "text/plain": [
       "''"
      ]
     },
     "execution_count": 27,
     "metadata": {},
     "output_type": "execute_result"
    }
   ],
   "source": [
    "'秘孔経絡を突くと相手は死ぬ'*0"
   ]
  },
  {
   "cell_type": "markdown",
   "metadata": {},
   "source": [
    "ここまで来れば簡単。もとのコードに戻ると、\n",
    "\n",
    "```\n",
    "n%3//2*'Fizz'\n",
    "```\n",
    "\n",
    "変数 n には、イテレータから順に 0 から 29 までの数字が入ってくる。例えば 0 のときは\n",
    "\n",
    "```\n",
    "n = 0 \n",
    "0 % 3 // 2\n",
    "```\n",
    "\n",
    "という計算が行なわれる。% は余りを求める演算子、// は商 (切り下げ) を求める演算子。つまり、x、a、q、r が全部整数のとき\n",
    "\n",
    "```\n",
    "a // x = q 余り r  (r = a % x)\n",
    "```\n",
    "\n",
    "になる。なので\n",
    "\n",
    "``` \n",
    "0 % 3 // 2\n",
    "```\n",
    "\n",
    "この計算は、0 を 3 で割った余りを 2で割って切り下げる、という計算になる。つまり答えは 0。だから\n",
    "\n",
    "```\n",
    "0*'Fizz'\n",
    "```\n",
    "\n",
    "となって、Fizz は表示されない。Buzz の部分も同じ\n",
    "\n",
    "```\n",
    "n%5//4*'Buzz'\n",
    "```\n",
    "\n",
    "```\n",
    "0 % 5 // 4 = 0\n",
    "```\n",
    "\n",
    "になるから n=0 のときは Buzz は表示されない。\n",
    "\n"
   ]
  },
  {
   "cell_type": "markdown",
   "metadata": {},
   "source": [
    "念のため検証。nが0,1,2,3,4,5のとき。\n",
    "\n",
    "* Fizz部\n",
    "```\n",
    "0 % 3 // 2 = 0\n",
    "1 % 3 // 2 = 0\n",
    "2 % 3 // 2 = 1 -> Fizzと表示される\n",
    "3 % 3 // 2 = 0\n",
    "4 % 3 // 2 = 0\n",
    "5 % 3 // 2 = 0\n",
    "```\n",
    "* Buzz部\n",
    "```\n",
    "0 % 5 // 4 = 0\n",
    "1 % 5 // 4 = 0\n",
    "2 % 5 // 4 = 0\n",
    "3 % 5 // 4 = 0\n",
    "4 % 5 // 4 = 1 -> Buzzと表示される\n",
    "5 % 5 // 4 = 0\n",
    "```\n",
    "※注意、n は 0 から始まるので、n=2 が 3 番目の数、n=4 が 5 番目の数。\n",
    "\n",
    "では 15 の倍数のときはどうなるか\n",
    "\n",
    "* Fizz部\n",
    "```\n",
    "14 % 3 // 2 = 1 -> Fizzと表示される\n",
    "```\n",
    "\n",
    "* Buzz部\n",
    "```\n",
    "14 % 5 // 4 = 1 -> Buzzと表示される\n",
    "```\n",
    "\n",
    "んで Fizz 部と Buzz \n",
    "部は以下のように繋がっている。演算子の接合順序に注意しよう。\n",
    "\n",
    "```\n",
    "n%3//2*'Fizz'+n%5//4*'Buzz'\n",
    "```\n",
    "演算子の接合順序が分かるように括弧でくくってみる。\n",
    "\n",
    "```\n",
    "{[(n%3) // 2] * 'Fizz'} + {[(n%5) // 4] * 'Buzz'}\n",
    "```\n",
    "文字列の足し算なので、Fizz と Buzz が表示されるときは「FizzBuzz」と表示される!\n"
   ]
  },
  {
   "cell_type": "markdown",
   "metadata": {},
   "source": [
    "ここまでで、Fizz、Buzz、FizzBuzz を表示しているロジックは分かった。\n",
    "\n",
    "次はそれ以外の数字を表示している部分。つまり後半にある or 演算子移行の処理。\n",
    "```\n",
    "or str(n+1)\n",
    "```\n",
    "\n",
    "or や and のような論理演算子の動きを説明する。例として or を上げる。\n",
    "\n",
    "or 演算子は、右辺、左辺に Python 文を取る。\n",
    "\n",
    "```\n",
    "left-statement or right-statement\n",
    "```\n",
    "そして or は、左辺の文を評価(実行)した値が False なら右辺を評価(実行)する。\n",
    "\n",
    "例えば"
   ]
  },
  {
   "cell_type": "code",
   "execution_count": 32,
   "metadata": {},
   "outputs": [
    {
     "data": {
      "text/plain": [
       "True"
      ]
     },
     "execution_count": 32,
     "metadata": {},
     "output_type": "execute_result"
    }
   ],
   "source": [
    "True or False  # 左辺が True なので右辺は評価されない。"
   ]
  },
  {
   "cell_type": "code",
   "execution_count": 33,
   "metadata": {},
   "outputs": [
    {
     "data": {
      "text/plain": [
       "True"
      ]
     },
     "execution_count": 33,
     "metadata": {},
     "output_type": "execute_result"
    }
   ],
   "source": [
    "False or True  # 左辺が False なので右辺が評価される。"
   ]
  },
  {
   "cell_type": "markdown",
   "metadata": {},
   "source": [
    "そして、Python では数値 0 や空の文字列、空のリスト は False と評価される。0 以外の数字や空ではない文字列やリストは\n",
    "True と評価される。つまり"
   ]
  },
  {
   "cell_type": "code",
   "execution_count": 29,
   "metadata": {},
   "outputs": [
    {
     "data": {
      "text/plain": [
       "True"
      ]
     },
     "execution_count": 29,
     "metadata": {},
     "output_type": "execute_result"
    }
   ],
   "source": [
    "0 or True"
   ]
  },
  {
   "cell_type": "code",
   "execution_count": 30,
   "metadata": {},
   "outputs": [
    {
     "data": {
      "text/plain": [
       "True"
      ]
     },
     "execution_count": 30,
     "metadata": {},
     "output_type": "execute_result"
    }
   ],
   "source": [
    "'' or True"
   ]
  },
  {
   "cell_type": "code",
   "execution_count": 31,
   "metadata": {},
   "outputs": [
    {
     "data": {
      "text/plain": [
       "True"
      ]
     },
     "execution_count": 31,
     "metadata": {},
     "output_type": "execute_result"
    }
   ],
   "source": [
    "[] or True"
   ]
  },
  {
   "cell_type": "markdown",
   "metadata": {},
   "source": [
    "となる。コードゴルフの例では、空の文字列が False になる事を利用している。元のコードを見てみよう。\n",
    "\n",
    "```\n",
    "n%3//2*'Fizz'+n%5//4*'Buzz'or str(n+1)\n",
    "```\n",
    "or 演算子の左辺は n + 1 の値が 3 か 5 の倍数のとき、空ではない文字列を生成する(Fizz か Buzz か FizzBuzz)。\n",
    "\n",
    "空で無い文字列は True と解釈されるので、or 演算子の右辺は評価(実行)されない。\n",
    "\n",
    "他方 n + 1 の値が 3 や 5 の倍数でないとき、左辺は空の文字列になる。つまり False と評価される。\n",
    "\n",
    "左辺が False なので or 演算子の右辺が評価(実行)される。例えば n = 1 のときであれば\n",
    "```\n",
    "str(1+1)\n",
    "```\n",
    "が評価されて、'2'という文字列が生成される。\n",
    "\n",
    "    "
   ]
  },
  {
   "cell_type": "markdown",
   "metadata": {},
   "source": [
    "あとは、この内包表記部分で生成された文字列のリストを\n",
    "```\n",
    "'\\n'.join(作ったリスト)\n",
    "```\n",
    "という感じで、改行文字に連結する。\n",
    "\n",
    "あとはそれを print すれば終わり。"
   ]
  },
  {
   "cell_type": "markdown",
   "metadata": {},
   "source": []
  },
  {
   "cell_type": "code",
   "execution_count": null,
   "metadata": {},
   "outputs": [],
   "source": []
  }
 ],
 "metadata": {
  "kernelspec": {
   "display_name": "Python 3",
   "language": "python",
   "name": "python3"
  },
  "language_info": {
   "codemirror_mode": {
    "name": "ipython",
    "version": 3
   },
   "file_extension": ".py",
   "mimetype": "text/x-python",
   "name": "python",
   "nbconvert_exporter": "python",
   "pygments_lexer": "ipython3",
   "version": "3.4.5"
  }
 },
 "nbformat": 4,
 "nbformat_minor": 2
}
