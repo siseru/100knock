{
 "cells": [
  {
   "cell_type": "markdown",
   "metadata": {},
   "source": [
    "# 言語処理100本ノック\n",
    "\n",
    "## Ch04 形態素解析\n",
    "\n",
    "夏目漱石の小説『吾輩は猫である』の文章（neko.txt）をMeCabを使って形態素解析し，その結果をneko.txt.mecabというファイルに保存せよ．このファイルを用いて，以下の問に対応するプログラムを実装せよ．\n",
    "\n",
    "なお，問題37, 38, 39はmatplotlibもしくはGnuplotを用いるとよい．"
   ]
  },
  {
   "cell_type": "code",
   "execution_count": 1,
   "metadata": {},
   "outputs": [
    {
     "name": "stdout",
     "output_type": "stream",
     "text": [
      "--2018-03-06 15:58:45--  http://www.cl.ecei.tohoku.ac.jp/nlp100/data/neko.txt\n",
      "Resolving www.cl.ecei.tohoku.ac.jp (www.cl.ecei.tohoku.ac.jp)... 130.34.192.83\n",
      "Connecting to www.cl.ecei.tohoku.ac.jp (www.cl.ecei.tohoku.ac.jp)|130.34.192.83|:80... connected.\n",
      "HTTP request sent, awaiting response... 200 OK\n",
      "Length: 965825 (943K) [text/plain]\n",
      "Saving to: ‘neko.txt’\n",
      "\n",
      "100%[======================================>] 965,825     3.68MB/s   in 0.3s   \n",
      "\n",
      "2018-03-06 15:58:46 (3.68 MB/s) - ‘neko.txt’ saved [965825/965825]\n",
      "\n"
     ]
    }
   ],
   "source": [
    "!wget http://www.cl.ecei.tohoku.ac.jp/nlp100/data/neko.txt"
   ]
  },
  {
   "cell_type": "code",
   "execution_count": 2,
   "metadata": {},
   "outputs": [
    {
     "name": "stdout",
     "output_type": "stream",
     "text": [
      "which: no mecab in (/bin:/usr/local/sbin:/usr/local/bin:/sbin:/bin:/usr/sbin:/usr/bin:/usr/lib64/openmpi/bin/::/root/bin)\r\n"
     ]
    }
   ],
   "source": [
    "!which mecab"
   ]
  },
  {
   "cell_type": "code",
   "execution_count": 3,
   "metadata": {},
   "outputs": [
    {
     "name": "stdout",
     "output_type": "stream",
     "text": [
      "Loaded plugins: changelog, fastestmirror, langpacks\n",
      "Loading mirror speeds from cached hostfile\n",
      " * base: mirror.0x.sg\n",
      " * epel: kartolo.sby.datautama.net.id\n",
      " * extras: mirror.0x.sg\n",
      " * updates: centos.usonyx.net\n",
      "Warning: No matches found for: mecab\n",
      "No matches found\n"
     ]
    }
   ],
   "source": [
    "!yum search mecab"
   ]
  },
  {
   "cell_type": "code",
   "execution_count": 4,
   "metadata": {},
   "outputs": [
    {
     "name": "stdout",
     "output_type": "stream",
     "text": [
      "Retrieving http://packages.groonga.org/centos/groonga-release-1.4.0-1.noarch.rpm\n",
      "warning: /var/tmp/rpm-tmp.9oLzAC: Header V4 DSA/SHA1 Signature, key ID 45499429: NOKEY\n",
      "Preparing...                                                            (100#                                 (100##                                (100###                               (100####                              (100#####                             (100######                            (100#######                           (100########                          (100#########                         (100##########                        (100###########                       (100############                      (100#############                     (100##############                    (100###############                   (100################                  (100#################                 (100##################                (100###################               (100####################              (100#####################             (100######################            (100#######################           (100########################          (100#########################         (100##########################        (100###########################       (100############################      (100#############################     (100##############################    (100###############################   (100################################  (100################################# (100################################# [100%]\n",
      "Updating / installing...\n",
      "   1:groonga-release-1.4.0-1                                            ( 16#                                 ( 16##                                ( 16###                               ( 16####                              ( 16#####                             ( 45######                            ( 45#######                           ( 45########                          ( 45#########                         ( 45##########                        ( 45###########                       ( 45############                      ( 45#############                     ( 45##############                    ( 45###############                   ( 46################                  ( 50#################                 ( 66##################                ( 66###################               ( 66####################              ( 66#####################             ( 66######################            ( 95#######################           ( 95########################          ( 95#########################         ( 95##########################        ( 95###########################       ( 95############################      ( 95#############################     ( 95##############################    ( 95###############################   ( 95################################  ( 99################################# ( 99################################# [100%]\n"
     ]
    }
   ],
   "source": [
    "!rpm -ihv http://packages.groonga.org/centos/groonga-release-1.4.0-1.noarch.rpm"
   ]
  },
  {
   "cell_type": "code",
   "execution_count": 5,
   "metadata": {},
   "outputs": [
    {
     "name": "stdout",
     "output_type": "stream",
     "text": [
      "Loaded plugins: changelog, fastestmirror, langpacks\n",
      "base                                                     | 3.6 kB     00:00     \n",
      "docker-ce-stable                                         | 2.9 kB     00:00     \n",
      "epel/x86_64/metalink                                     | 6.8 kB     00:00     \n",
      "epel                                                     | 4.7 kB     00:00     \n",
      "extras                                                   | 3.4 kB     00:00     \n",
      "groonga                                                  | 2.9 kB     00:00     \n",
      "updates                                                  | 3.4 kB     00:00     \n",
      "zabbix                                                   | 2.9 kB     00:00     \n",
      "zabbix-non-supported                                     |  951 B     00:00     \n",
      "(1/5): epel/x86_64/updateinfo                              | 899 kB   00:00     \n",
      "(2/5): extras/7/x86_64/primary_db                          | 167 kB   00:00     \n",
      "(3/5): groonga/7/x86_64/primary_db                         | 411 kB   00:01     \n",
      "(4/5): updates/7/x86_64/primary_db                         | 6.0 MB   00:02     \n",
      "(5/5): epel/x86_64/primary_db                              | 6.3 MB   00:04     \n",
      "Loading mirror speeds from cached hostfile\n",
      " * base: mirror.0x.sg\n",
      " * epel: ftp.iij.ad.jp\n",
      " * extras: mirror.0x.sg\n",
      " * updates: centos.usonyx.net\n",
      "============================== N/S matched: mecab ==============================\n",
      "groonga-tokenizer-\u001b[1mmecab\u001b[m.x86_64 : \u001b[1mMeCab\u001b[m tokenizer for Groonga\n",
      "\u001b[1mmecab\u001b[m-debuginfo.x86_64 : Debug information for package \u001b[1mmecab\u001b[m\n",
      "\u001b[1mmecab\u001b[m-devel.x86_64 : Libraries and Header files for \u001b[1mMecab\u001b[m\n",
      "\u001b[1mmecab\u001b[m-ipadic.x86_64 : IPA dictionary for \u001b[1mMeCab\u001b[m\n",
      "\u001b[1mmecab\u001b[m-ipadic-EUCJP.x86_64 : IPA dictionary for \u001b[1mMecab\u001b[m with encoded by EUC-JP\n",
      "\u001b[1mmecab\u001b[m-jumandic.x86_64 : JUMAN dictorionary for \u001b[1mMeCab\u001b[m\n",
      "\u001b[1mmecab\u001b[m-jumandic-EUCJP.x86_64 : JUMAN dictionary for \u001b[1mMecab\u001b[m with encoded by EUC-JP\n",
      "\u001b[1mmecab\u001b[m.x86_64 : Yet Another Part-of-Speech and Morphological Analyzer\n",
      "\n",
      "  Name and summary matches \u001b[1monly\u001b[m, use \"search all\" for everything.\n"
     ]
    }
   ],
   "source": [
    "!yum search mecab"
   ]
  },
  {
   "cell_type": "code",
   "execution_count": 6,
   "metadata": {},
   "outputs": [
    {
     "name": "stdout",
     "output_type": "stream",
     "text": [
      "Loaded plugins: changelog, fastestmirror, langpacks\n",
      "Loading mirror speeds from cached hostfile\n",
      " * base: mirror.0x.sg\n",
      " * epel: ftp.iij.ad.jp\n",
      " * extras: mirror.0x.sg\n",
      " * updates: centos.usonyx.net\n",
      "Resolving Dependencies\n",
      "--> Running transaction check\n",
      "---> Package mecab.x86_64 0:0.996-1.el7.centos.6 will be installed\n",
      "---> Package mecab-ipadic.x86_64 0:2.7.0.20070801-13.el7.centos.1 will be installed\n",
      "--> Finished Dependency Resolution\n",
      "\n",
      "Dependencies Resolved\n",
      "\n",
      "================================================================================\n",
      " Package         Arch      Version                             Repository  Size\n",
      "================================================================================\n",
      "Installing:\n",
      " mecab           x86_64    0.996-1.el7.centos.6                groonga    381 k\n",
      " mecab-ipadic    x86_64    2.7.0.20070801-13.el7.centos.1      groonga     10 M\n",
      "\n",
      "Transaction Summary\n",
      "================================================================================\n",
      "Install  2 Packages\n",
      "\n",
      "Total download size: 11 M\n",
      "Installed size: 53 M\n",
      "Downloading packages:\n",
      "warning: /var/cache/yum/x86_64/7/groonga/packages/mecab-0.996-1.el7.centos.6.x86_64.rpm: Header V4 DSA/SHA1 Signature, key ID 45499429: NOKEY\n",
      "Public key for mecab-0.996-1.el7.centos.6.x86_64.rpm is not installed\n",
      "(1/2): mecab-0.996-1.el7.centos.6.x86_64.rpm               | 381 kB   00:00     \n",
      "(2/2): mecab-ipadic-2.7.0.20070801-13.el7.centos.1.x86_64. |  10 MB   00:03     \n",
      "--------------------------------------------------------------------------------\n",
      "Total                                              3.3 MB/s |  11 MB  00:03     \n",
      "Retrieving key from file:///etc/pki/rpm-gpg/RPM-GPG-KEY-groonga\n",
      "Importing GPG key 0x45499429:\n",
      " Userid     : \"groonga Key (groonga Official Signing Key) <packages@groonga.org>\"\n",
      " Fingerprint: c97e 4649 a205 1d0c ea1a 73f9 72a7 496b 4549 9429\n",
      " Package    : groonga-release-1.4.0-1.noarch (installed)\n",
      " From       : /etc/pki/rpm-gpg/RPM-GPG-KEY-groonga\n",
      "Retrieving key from file:///etc/pki/rpm-gpg/RPM-GPG-KEY-groonga-RSA4096\n",
      "Importing GPG key 0x34839225:\n",
      " Userid     : \"Groonga Key (Groonga Official Signing Key) <packages@groonga.org>\"\n",
      " Fingerprint: 2701 f317 cfcc cb97 5cad e9c2 624c f774 3483 9225\n",
      " Package    : groonga-release-1.4.0-1.noarch (installed)\n",
      " From       : /etc/pki/rpm-gpg/RPM-GPG-KEY-groonga-RSA4096\n",
      "Running transaction check\n",
      "Running transaction test\n",
      "Transaction test succeeded\n",
      "Running transaction\n",
      "Warning: RPMDB altered outside of yum.\n",
      "  Installing : mecab-0.996-1.el7.centos.6.x86_64                            1/2 \n",
      "  Installing : mecab-ipadic-2.7.0.20070801-13.el7.centos.1.x86_64           2/2 \n",
      "  Verifying  : mecab-0.996-1.el7.centos.6.x86_64                            1/2 \n",
      "  Verifying  : mecab-ipadic-2.7.0.20070801-13.el7.centos.1.x86_64           2/2 \n",
      "\n",
      "Installed:\n",
      "  mecab.x86_64 0:0.996-1.el7.centos.6                                           \n",
      "  mecab-ipadic.x86_64 0:2.7.0.20070801-13.el7.centos.1                          \n",
      "\n",
      "Complete!\n"
     ]
    }
   ],
   "source": [
    "!yum install mecab mecab-ipadic -y"
   ]
  },
  {
   "cell_type": "code",
   "execution_count": 7,
   "metadata": {},
   "outputs": [],
   "source": [
    "!mecab neko.txt >neko.txt.mecab"
   ]
  },
  {
   "cell_type": "code",
   "execution_count": 8,
   "metadata": {},
   "outputs": [
    {
     "name": "stdout",
     "output_type": "stream",
     "text": [
      "    9964 neko.txt\r\n",
      "  216302 neko.txt.mecab\r\n",
      "  226266 total\r\n"
     ]
    }
   ],
   "source": [
    "!wc -l neko.txt neko.txt.mecab"
   ]
  },
  {
   "cell_type": "code",
   "execution_count": 9,
   "metadata": {},
   "outputs": [
    {
     "name": "stdout",
     "output_type": "stream",
     "text": [
      "一\t名詞,数,*,*,*,*,一,イチ,イチ\r\n",
      "EOS\r\n",
      "EOS\r\n",
      "　\t記号,空白,*,*,*,*,　,　,　\r\n",
      "吾輩\t名詞,代名詞,一般,*,*,*,吾輩,ワガハイ,ワガハイ\r\n",
      "は\t助詞,係助詞,*,*,*,*,は,ハ,ワ\r\n",
      "猫\t名詞,一般,*,*,*,*,猫,ネコ,ネコ\r\n",
      "で\t助動詞,*,*,*,特殊・ダ,連用形,だ,デ,デ\r\n",
      "ある\t助動詞,*,*,*,五段・ラ行アル,基本形,ある,アル,アル\r\n",
      "。\t記号,句点,*,*,*,*,。,。,。\r\n"
     ]
    }
   ],
   "source": [
    "!head neko.txt.mecab"
   ]
  },
  {
   "cell_type": "code",
   "execution_count": null,
   "metadata": {},
   "outputs": [],
   "source": [
    "# 30. 形態素解析結果の読み込み\n",
    "# 形態素解析結果（neko.txt.mecab）を読み込むプログラムを実装せよ．\n",
    "# ただし，各形態素は表層形（surface），基本形（base），品詞（pos），品詞細分類1（pos1）を\n",
    "# キーとするマッピング型に格納し，1文を形態素（マッピング型）のリストとして表現せよ．\n",
    "# 第4章の残りの問題では，ここで作ったプログラムを活用せよ．\n"
   ]
  }
 ],
 "metadata": {
  "kernelspec": {
   "display_name": "Python 3",
   "language": "python",
   "name": "python3"
  },
  "language_info": {
   "codemirror_mode": {
    "name": "ipython",
    "version": 3
   },
   "file_extension": ".py",
   "mimetype": "text/x-python",
   "name": "python",
   "nbconvert_exporter": "python",
   "pygments_lexer": "ipython3",
   "version": "3.4.5"
  }
 },
 "nbformat": 4,
 "nbformat_minor": 2
}
